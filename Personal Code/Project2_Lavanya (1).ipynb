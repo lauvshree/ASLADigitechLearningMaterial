{
 "cells": [
  {
   "cell_type": "code",
   "execution_count": 40,
   "metadata": {},
   "outputs": [],
   "source": [
    "import numpy as np\n",
    "import pandas as pd\n",
    "import scipy.stats as st\n",
    "from scipy.stats import ttest_ind, levene, shapiro, iqr,mannwhitneyu\n",
    "from statsmodels.stats.power import TTestIndPower\n",
    "import seaborn as sns\n",
    "import matplotlib.pyplot as plt"
   ]
  },
  {
   "cell_type": "code",
   "execution_count": 41,
   "metadata": {},
   "outputs": [],
   "source": [
    "data_golf = pd.read_excel(\"SM4-Golf.xls\")"
   ]
  },
  {
   "cell_type": "code",
   "execution_count": 42,
   "metadata": {},
   "outputs": [
    {
     "data": {
      "text/html": [
       "<div>\n",
       "<style scoped>\n",
       "    .dataframe tbody tr th:only-of-type {\n",
       "        vertical-align: middle;\n",
       "    }\n",
       "\n",
       "    .dataframe tbody tr th {\n",
       "        vertical-align: top;\n",
       "    }\n",
       "\n",
       "    .dataframe thead th {\n",
       "        text-align: right;\n",
       "    }\n",
       "</style>\n",
       "<table border=\"1\" class=\"dataframe\">\n",
       "  <thead>\n",
       "    <tr style=\"text-align: right;\">\n",
       "      <th></th>\n",
       "      <th>Current</th>\n",
       "      <th>New</th>\n",
       "    </tr>\n",
       "  </thead>\n",
       "  <tbody>\n",
       "    <tr>\n",
       "      <th>count</th>\n",
       "      <td>40.000000</td>\n",
       "      <td>40.000000</td>\n",
       "    </tr>\n",
       "    <tr>\n",
       "      <th>mean</th>\n",
       "      <td>270.275000</td>\n",
       "      <td>267.500000</td>\n",
       "    </tr>\n",
       "    <tr>\n",
       "      <th>std</th>\n",
       "      <td>8.752985</td>\n",
       "      <td>9.896904</td>\n",
       "    </tr>\n",
       "    <tr>\n",
       "      <th>min</th>\n",
       "      <td>255.000000</td>\n",
       "      <td>250.000000</td>\n",
       "    </tr>\n",
       "    <tr>\n",
       "      <th>25%</th>\n",
       "      <td>263.000000</td>\n",
       "      <td>262.000000</td>\n",
       "    </tr>\n",
       "    <tr>\n",
       "      <th>50%</th>\n",
       "      <td>270.000000</td>\n",
       "      <td>265.000000</td>\n",
       "    </tr>\n",
       "    <tr>\n",
       "      <th>75%</th>\n",
       "      <td>275.250000</td>\n",
       "      <td>274.500000</td>\n",
       "    </tr>\n",
       "    <tr>\n",
       "      <th>max</th>\n",
       "      <td>289.000000</td>\n",
       "      <td>289.000000</td>\n",
       "    </tr>\n",
       "  </tbody>\n",
       "</table>\n",
       "</div>"
      ],
      "text/plain": [
       "          Current         New\n",
       "count   40.000000   40.000000\n",
       "mean   270.275000  267.500000\n",
       "std      8.752985    9.896904\n",
       "min    255.000000  250.000000\n",
       "25%    263.000000  262.000000\n",
       "50%    270.000000  265.000000\n",
       "75%    275.250000  274.500000\n",
       "max    289.000000  289.000000"
      ]
     },
     "execution_count": 42,
     "metadata": {},
     "output_type": "execute_result"
    }
   ],
   "source": [
    "data_golf.describe()"
   ]
  },
  {
   "cell_type": "code",
   "execution_count": 43,
   "metadata": {},
   "outputs": [],
   "source": [
    "current = data_golf['Current']\n",
    "new = data_golf['New']"
   ]
  },
  {
   "cell_type": "markdown",
   "metadata": {},
   "source": [
    "## Initial observation and hypothesis\n",
    "\n",
    "It is evident from the material each of the sample we have are made of, that they are independent samples. Our objective is to construct a hypothesis to compare the driving distances of the current and new golf balls, to see how much the new material is imapcting the driving range. \n",
    "\n",
    "Let's take the mean of current sample is μ1 and the mean of the new sample is μ2.\n",
    "\n",
    "### Null Hypothesis\n",
    "μ1 = μ2, stating that the golf balls from both samples are representative of the hypothesis that the drive range of both current and new golf balls are similar.\n",
    "\n",
    "### Alternate hypothesis \n",
    "μ1<>μ2, stating that the golf balls from both samples are representative of the hypothesis that the drive range of both kinds are significantly different. Since the level of significance is not given in the problem statement, we will assume it is 5% (.05)\n",
    "\n",
    "Our test is a two-tailed test of mean for two independent samples at significance level .05.\n",
    "\n",
    "For convenience we will represent μ1 as m1 and μ2 as m2\n",
    "\n",
    "Standard deviation of current ball sample shall be represented as sd1 and standard deviation of new sample shall be represented by sd2. \n",
    "\n",
    "We have described the data above which gives us the mean, standard deviation and the five point summary. We will calculate the mean and SD of the samples again to process it further for our hypothesis.\n"
   ]
  },
  {
   "cell_type": "code",
   "execution_count": 44,
   "metadata": {},
   "outputs": [
    {
     "name": "stdout",
     "output_type": "stream",
     "text": [
      "270.275 267.5\n"
     ]
    }
   ],
   "source": [
    "m1 = np.mean(current)\n",
    "m2 = np.mean(new)\n",
    "print(m1,m2)"
   ]
  },
  {
   "cell_type": "code",
   "execution_count": 45,
   "metadata": {},
   "outputs": [
    {
     "name": "stdout",
     "output_type": "stream",
     "text": [
      "8.642880017679293 9.772410142846033\n"
     ]
    }
   ],
   "source": [
    "sd1 = np.std(current)\n",
    "sd2 = np.std(new)\n",
    "print(sd1,sd2)"
   ]
  },
  {
   "cell_type": "markdown",
   "metadata": {},
   "source": [
    "Ideally,given the sample size, we can come to some conclusion about the data by performing a Z test. Since, we have don't have population mean and variance, we will do an independent test."
   ]
  },
  {
   "cell_type": "code",
   "execution_count": 46,
   "metadata": {},
   "outputs": [],
   "source": [
    "#applying the forumula for t test for two samples\n",
    "t = (m1-m2)/np.sqrt((sd1**2/len(current))+(sd2**2)/len(new))"
   ]
  },
  {
   "cell_type": "code",
   "execution_count": 47,
   "metadata": {},
   "outputs": [
    {
     "name": "stdout",
     "output_type": "stream",
     "text": [
      "1.3452840794843213\n"
     ]
    }
   ],
   "source": [
    "print(t)"
   ]
  },
  {
   "cell_type": "code",
   "execution_count": 48,
   "metadata": {},
   "outputs": [
    {
     "name": "stdout",
     "output_type": "stream",
     "text": [
      "1.3283615935245678 0.18798994530489838\n"
     ]
    }
   ],
   "source": [
    "#Using the t test_ind module calculating t and probability.\n",
    "t2,p = ttest_ind(current,new,equal_var=False)\n",
    "print(t2,p)"
   ]
  },
  {
   "cell_type": "markdown",
   "metadata": {},
   "source": [
    "### Test of normality\n",
    "We will conduct the test of normality by determining the skew and kurtosis of the two sample and also by plotting the two samples in a histogram to observe if they indicate the values are normally distributed."
   ]
  },
  {
   "cell_type": "code",
   "execution_count": 49,
   "metadata": {},
   "outputs": [
    {
     "name": "stdout",
     "output_type": "stream",
     "text": [
      "Kurtosis of current golf balls is  -0.8168840741950509\n",
      "Skew of current golf balls is  0.29456628634379833\n",
      "Kurtosis of new golf balls is  -0.59881719251117\n",
      "Skew of new golf balls is  0.23072220761583526\n"
     ]
    }
   ],
   "source": [
    "print ('Kurtosis of current golf balls is ',st.kurtosis(current))\n",
    "print ('Skew of current golf balls is ',st.skew(current))\n",
    "print ('Kurtosis of new golf balls is ',st.kurtosis(new))\n",
    "print ('Skew of new golf balls is ',st.skew(new))"
   ]
  },
  {
   "cell_type": "markdown",
   "metadata": {},
   "source": [
    "The curtosis of both samples is negative which implies they are light tailed. And the skewness is closer to 0 which also indicated the values could be normally distributed. Let's perform a Shapiro's test on each of the sample to ascertain if they are normally distributed. The null hypothesis is that the samples are normally distributed and the alternate hypothesis is that they are not normally distributed."
   ]
  },
  {
   "cell_type": "code",
   "execution_count": 50,
   "metadata": {},
   "outputs": [
    {
     "name": "stdout",
     "output_type": "stream",
     "text": [
      "(0.9707045555114746, 0.37878310680389404)\n",
      "(0.9678265452384949, 0.3064688742160797)\n"
     ]
    }
   ],
   "source": [
    "print(shapiro(current))\n",
    "print(shapiro(new))"
   ]
  },
  {
   "cell_type": "markdown",
   "metadata": {},
   "source": [
    "Since the p value of both samples are more than 0.05 we will accept the null hypothesis and consider that the two samples are normally distributed. Let's ascertain this visually."
   ]
  },
  {
   "cell_type": "code",
   "execution_count": 51,
   "metadata": {},
   "outputs": [
    {
     "data": {
      "text/plain": [
       "<matplotlib.axes._subplots.AxesSubplot at 0x1a1f77f6d8>"
      ]
     },
     "execution_count": 51,
     "metadata": {},
     "output_type": "execute_result"
    },
    {
     "data": {
      "image/png": "[encoded data removed]",
      "text/plain": [
       "<Figure size 1440x720 with 2 Axes>"
      ]
     },
     "metadata": {
      "needs_background": "light"
     },
     "output_type": "display_data"
    }
   ],
   "source": [
    "fig, ax =plt.subplots(1,2,figsize=(20, 10))\n",
    "\n",
    "sns.distplot(current, ax=ax[0])\n",
    "sns.distplot(new, ax=ax[1])"
   ]
  },
  {
   "cell_type": "markdown",
   "metadata": {},
   "source": [
    "### Mannwhitneyu Test for non-parametric samples\n",
    "\n",
    "To further authenticate our inference, we will assume the data is non-parametric in nature and do the Mannwhitneyu test on the two samples."
   ]
  },
  {
   "cell_type": "code",
   "execution_count": 52,
   "metadata": {},
   "outputs": [
    {
     "name": "stdout",
     "output_type": "stream",
     "text": [
      "668.0 0.10265192122893124\n"
     ]
    }
   ],
   "source": [
    "u,p_value = mannwhitneyu(current,new)\n",
    "\n",
    "print(u,p_value)"
   ]
  },
  {
   "cell_type": "markdown",
   "metadata": {},
   "source": [
    "### Mannwhitneyu test inference\n",
    "\n",
    "The p value is again more than .05 making us come to a conclusion that we will accept out null hypothesis and reject the alternate hypothesis. \n",
    "\n",
    "\n",
    "### Levene's test for homogenity of variance\n",
    "We will further check the homegenity of the variance of the two samples. This can be done with Levene's test. The null hypothesis in this case is that the variance of two samples are the same and the alternative hypothesis is that the variance of the two samples is not the same. \n"
   ]
  },
  {
   "cell_type": "code",
   "execution_count": 53,
   "metadata": {},
   "outputs": [
    {
     "data": {
      "text/plain": [
       "LeveneResult(statistic=0.2553238291765741, pvalue=0.6147759523331309)"
      ]
     },
     "execution_count": 53,
     "metadata": {},
     "output_type": "execute_result"
    }
   ],
   "source": [
    "levene(current,new)"
   ]
  },
  {
   "cell_type": "markdown",
   "metadata": {},
   "source": [
    "### Levene's test inference\n",
    "The pvalue is again higher than .05. So we will accept the null hypothesis that the variance of the two, are the same. \n",
    "\n",
    "### Test of power\n",
    "Let us check the power of significance, based on our conclusion to see if there are any chances of errors."
   ]
  },
  {
   "cell_type": "code",
   "execution_count": 54,
   "metadata": {},
   "outputs": [
    {
     "name": "stdout",
     "output_type": "stream",
     "text": [
      "0.30081466507751725\n"
     ]
    }
   ],
   "source": [
    "effect = (m1 - m2)/(np.sqrt(((sd1**2)+(sd2**2))/2))\n",
    "print(effect)"
   ]
  },
  {
   "cell_type": "markdown",
   "metadata": {},
   "source": [
    "The effect size is between .2 and .5 which is indicative that our conclusion about the mean of the two samples being comparable is likely to be correct for the population.\n"
   ]
  },
  {
   "cell_type": "code",
   "execution_count": 55,
   "metadata": {},
   "outputs": [
    {
     "name": "stdout",
     "output_type": "stream",
     "text": [
      "Sample Size: 174.441\n",
      "0.7700018658160013\n"
     ]
    }
   ],
   "source": [
    "alpha = 0.05\n",
    "power = 0.8\n",
    "\n",
    "# perform power analysis\n",
    "analysis = TTestIndPower()\n",
    "result = analysis.solve_power(effect, power=power, nobs1=None, ratio=1.0, alpha=alpha)\n",
    "test_power = analysis.power(effect_size=effect,nobs1=40,alpha=0.5,ratio=1,df=78,alternative=\"two-sided\")\n",
    "\n",
    "print('Sample Size: %.3f' % result)\n",
    "print(test_power)"
   ]
  },
  {
   "cell_type": "markdown",
   "metadata": {},
   "source": [
    "### Test of power inference\n",
    "From the test of power it is evident that there is 77% chance of the null hypothesis being false. \n",
    "\n",
    "But over sample size is only 40 of each kind. Inorder to conclude we need to conduct the test on bigger sample of size 175 to reach on a conclusion.\n"
   ]
  },
  {
   "cell_type": "markdown",
   "metadata": {},
   "source": [
    "## Conclusion:\n",
    "The t test result for independent samples and the Mannwhitneyu test indicates that the driving range of the current and new golf balls are comparable. But the power of test indicates that there is a 77% chance of this hypothesis being false. We can come to conlusion only after the test is conducted on a bigger sample size of 175 and above. "
   ]
  }
 ],
 "metadata": {
  "kernelspec": {
   "display_name": "Python 3",
   "language": "python",
   "name": "python3"
  },
  "language_info": {
   "codemirror_mode": {
    "name": "ipython",
    "version": 3
   },
   "file_extension": ".py",
   "mimetype": "text/x-python",
   "name": "python",
   "nbconvert_exporter": "python",
   "pygments_lexer": "ipython3",
   "version": "3.7.1"
  }
 },
 "nbformat": 4,
 "nbformat_minor": 2
}
