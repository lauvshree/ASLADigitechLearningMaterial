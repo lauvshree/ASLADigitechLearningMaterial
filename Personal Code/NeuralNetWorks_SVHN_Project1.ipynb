{
 "cells": [
  {
   "cell_type": "markdown",
   "metadata": {},
   "source": [
    "The goal of this project is to build image classification model based on door numbers from Street View images. We will first use KNN and then use Neural networks and compare the efficiency and accuracy of the traditional model and neural networks.\n",
    "\n",
    "The model should be able to take an image from the SVHN database as identify the digit. This is a multi-class classification problem with 10 classes - 0-9 digits.\n",
    "\n"
   ]
  },
  {
   "cell_type": "code",
   "execution_count": 28,
   "metadata": {},
   "outputs": [],
   "source": [
    "import numpy as np\n",
    "from sklearn.neighbors import KNeighborsClassifier\n",
    "import pandas as pd\n",
    "import h5py\n",
    "from sklearn.model_selection import train_test_split\n",
    "import cv2\n",
    "from sklearn.metrics import confusion_matrix\n",
    "from sklearn.metrics import classification_report\n",
    "\n"
   ]
  },
  {
   "cell_type": "code",
   "execution_count": 29,
   "metadata": {},
   "outputs": [],
   "source": [
    "dataFromFile = h5py.File('SVHN_single_grey1.h5', 'r')\n",
    "\n",
    "X_train = dataFromFile['X_train']\n",
    "X_train_original = dataFromFile['X_train']\n",
    "X_test = dataFromFile['X_test']\n",
    "y_test = dataFromFile['y_test']\n",
    "y_train = dataFromFile['y_train']\n",
    "    \n",
    "X_train = X_train[:].reshape(-1, 1024) /255\n",
    "X_test = X_test[:].reshape(-1, 1024) /255\n"
   ]
  },
  {
   "cell_type": "code",
   "execution_count": 30,
   "metadata": {},
   "outputs": [
    {
     "data": {
      "image/png": "[encoded data removed]",
      "text/plain": [
       "<Figure size 720x72 with 10 Axes>"
      ]
     },
     "metadata": {
      "needs_background": "light"
     },
     "output_type": "display_data"
    },
    {
     "name": "stdout",
     "output_type": "stream",
     "text": [
      "label for each of the above image: [2 6 7 4 4 0 3 0 7 3]\n"
     ]
    }
   ],
   "source": [
    "# visualizing the first 10 images in the dataset and their labels\n",
    "%matplotlib inline\n",
    "import matplotlib.pyplot as plt\n",
    "plt.figure(figsize=(10, 1))\n",
    "for i in range(10):\n",
    "    plt.subplot(1, 10, i+1)\n",
    "    plt.imshow(X_train_original[i], cmap=\"gray\")\n",
    "    plt.axis('off')\n",
    "plt.show()\n",
    "print('label for each of the above image: %s' % (y_train[0:10]))"
   ]
  },
  {
   "cell_type": "markdown",
   "metadata": {},
   "source": [
    "We will now consider a subset of the data for KNN classification. K Nearest neighbours classification is a traditional ML model building. We will analyze it is pertinence in the context of OCR."
   ]
  },
  {
   "cell_type": "code",
   "execution_count": 31,
   "metadata": {},
   "outputs": [],
   "source": [
    "X_train_sub = X_train[:3000]\n",
    "y_train_sub = y_train[:3000]\n",
    "X_test_sub = X_test[:1000]\n",
    "y_test_sub = y_test[:1000]"
   ]
  },
  {
   "cell_type": "code",
   "execution_count": 32,
   "metadata": {},
   "outputs": [
    {
     "name": "stdout",
     "output_type": "stream",
     "text": [
      "When k=1 score is 32.1\n",
      "When k=2 score is 30.7\n",
      "When k=3 score is 30.7\n",
      "When k=4 score is 33.6\n",
      "When k=5 score is 33.300000000000004\n",
      "When k=6 score is 33.6\n",
      "When k=7 score is 32.800000000000004\n",
      "When k=8 score is 34.4\n",
      "When k=9 score is 34.599999999999994\n",
      "When k=10 score is 34.300000000000004\n",
      "When k=11 score is 34.5\n",
      "When k=12 score is 34.599999999999994\n",
      "When k=13 score is 34.4\n",
      "When k=14 score is 35.4\n",
      "When k=15 score is 34.699999999999996\n",
      "When k=16 score is 35.8\n",
      "When k=17 score is 35.4\n",
      "When k=18 score is 35.5\n",
      "When k=19 score is 35.0\n",
      "When k=20 score is 34.8\n",
      "When k=21 score is 34.8\n",
      "When k=22 score is 34.0\n",
      "When k=23 score is 33.300000000000004\n",
      "When k=24 score is 34.1\n",
      "When k=25 score is 33.5\n",
      "When k=26 score is 33.2\n",
      "When k=27 score is 33.6\n",
      "When k=28 score is 33.2\n",
      "When k=29 score is 33.2\n"
     ]
    }
   ],
   "source": [
    "for k in range(1,30):\n",
    "    knnClassifier = KNeighborsClassifier(n_neighbors=k, weights = 'uniform', metric='euclidean')\n",
    "    knnClassifier.fit(X_train_sub, y_train_sub)\n",
    "\n",
    "    score = knnClassifier.score(X_test_sub, y_test_sub)\n",
    "    print(f\"When k={k} score is {score*100}\")\n"
   ]
  },
  {
   "cell_type": "markdown",
   "metadata": {},
   "source": [
    "The accuracy seems to be the best at 35.8% for k value 16. Let's set the k value to 16 and train a model with the entire training dataset."
   ]
  },
  {
   "cell_type": "code",
   "execution_count": 33,
   "metadata": {},
   "outputs": [],
   "source": [
    "knnClassifier = KNeighborsClassifier(n_neighbors=16)\n",
    "knnClassifier.fit(X_train, y_train)\n",
    "\n",
    "predictions_knn = knnClassifier.predict(X_test)\n"
   ]
  },
  {
   "cell_type": "code",
   "execution_count": 34,
   "metadata": {},
   "outputs": [
    {
     "name": "stdout",
     "output_type": "stream",
     "text": [
      "EVALUATION ON TESTING DATA\n",
      "              precision    recall  f1-score   support\n",
      "\n",
      "           0       0.44      0.69      0.54      1814\n",
      "           1       0.47      0.73      0.57      1828\n",
      "           2       0.61      0.55      0.58      1803\n",
      "           3       0.45      0.43      0.44      1719\n",
      "           4       0.66      0.65      0.65      1812\n",
      "           5       0.51      0.39      0.44      1768\n",
      "           6       0.49      0.41      0.44      1832\n",
      "           7       0.71      0.62      0.66      1808\n",
      "           8       0.46      0.36      0.40      1812\n",
      "           9       0.56      0.42      0.48      1804\n",
      "\n",
      "    accuracy                           0.53     18000\n",
      "   macro avg       0.54      0.52      0.52     18000\n",
      "weighted avg       0.54      0.53      0.52     18000\n",
      "\n",
      "Confusion matrix\n",
      "[[1254   69   35   39   53   46  103   35   81   99]\n",
      " [  97 1336   65   88   79   35   29   48   20   31]\n",
      " [ 101  230  987   98   46   34   37  141   52   77]\n",
      " [ 132  245  143  739   50  156   35   58  101   60]\n",
      " [ 108  240   43   59 1180   15   57   19   39   52]\n",
      " [ 166  164   59  258   62  686  152   31  121   69]\n",
      " [ 323  123   36   67  130  121  742   25  209   56]\n",
      " [  97  213  115   91   29   34   38 1123   26   42]\n",
      " [ 255  113   64  121   97  116  259   27  654  106]\n",
      " [ 335  134   66   91   68  100   61   70  119  760]]\n"
     ]
    }
   ],
   "source": [
    "print(\"EVALUATION ON TESTING DATA\")\n",
    "print(classification_report(y_test, predictions_knn))\n",
    "\n",
    "print (\"Confusion matrix\")\n",
    "print(confusion_matrix(y_test,predictions_knn))\n"
   ]
  },
  {
   "cell_type": "markdown",
   "metadata": {},
   "source": [
    "As you can see above, using KNN has very low accuracy and the process with all 42000 images in the training data and 18000 images in test data took 30+ minutes. This is one of the obvious reasons the traditional classification models are not used for OCR. \n",
    "\n",
    "### Neural Network Model\n",
    "We will now import the appropriate modules for developing a neural network model. We will add layers as needed and do BatchNormalization and droputs as needed to get the best accuracy. We will use ReLU as the activation function.\n",
    "\n"
   ]
  },
  {
   "cell_type": "code",
   "execution_count": 35,
   "metadata": {},
   "outputs": [],
   "source": [
    "import tensorflow.keras\n",
    "from tensorflow.keras import losses\n",
    "from tensorflow.keras import optimizers\n",
    "from tensorflow.keras.models import Sequential\n",
    "from tensorflow.keras.layers import Dropout,ReLU,Dense,BatchNormalization\n"
   ]
  },
  {
   "cell_type": "markdown",
   "metadata": {},
   "source": [
    "The number of classes in the case of OCR of house numbers is 10, which includes all digits from 0-9. We will use `sparse_categorical_crossentropy` for losses, to treat the outcome as categorical values and not continuous. We will also use `'sparse_categorical_accuracy` for assessing the metrics of the model. Since the output of the model is categorical, we will use softmax activation function for the final layer and ReLU for the hidden layers to get better accuracy. "
   ]
  },
  {
   "cell_type": "code",
   "execution_count": 88,
   "metadata": {},
   "outputs": [
    {
     "name": "stdout",
     "output_type": "stream",
     "text": [
      "42000/42000 [==============================] - 4s 90us/sample - loss: 0.2503 - sparse_categorical_accuracy: 0.9219\n",
      "Accuracy: 92.19\n",
      "18000/18000 [==============================] - 1s 75us/sample - loss: 0.5037 - sparse_categorical_accuracy: 0.8601\n",
      "Accuracy: 86.01\n"
     ]
    }
   ],
   "source": [
    "model = Sequential()\n",
    "model.add(BatchNormalization(input_shape=(1024,)))\n",
    "model.add(Dense(256,activation='relu'))\n",
    "model.add(BatchNormalization(input_shape=(256,)))\n",
    "model.add(Dense(64,activation='relu'))\n",
    "model.add(Dropout(rate=0.2))\n",
    "num_classes = len(np.unique(y_train))\n",
    "model.add(Dense(num_classes,activation='softmax'))\n",
    "adam = optimizers.Adam(lr=0.002)\n",
    "model.compile(loss=losses.sparse_categorical_crossentropy, optimizer=adam, metrics=['sparse_categorical_accuracy'])\n",
    "model.fit(X_train, y_train, batch_size=200, epochs=30,validation_data=(X_test, y_test),verbose=0)\n",
    "\n",
    "_, train_data_accuracy = model.evaluate(X_train, y_train)\n",
    "print('Accuracy: %.2f' % (train_data_accuracy*100))\n",
    "\n",
    "_, test_data_accuracy = model.evaluate(X_test, y_test)\n",
    "print('Accuracy: %.2f' % (test_data_accuracy*100))"
   ]
  },
  {
   "cell_type": "markdown",
   "metadata": {},
   "source": [
    "As observed above the accuracy of the model with the training data is 92.05% and the accuracy with test data is 85.07%. "
   ]
  },
  {
   "cell_type": "code",
   "execution_count": 57,
   "metadata": {},
   "outputs": [],
   "source": [
    "nnmodelPredictions = model.predict_classes(X_train)"
   ]
  },
  {
   "cell_type": "code",
   "execution_count": 63,
   "metadata": {},
   "outputs": [
    {
     "data": {
      "image/png": "[encoded data removed]",
      "text/plain": [
       "<Figure size 720x72 with 10 Axes>"
      ]
     },
     "metadata": {
      "needs_background": "light"
     },
     "output_type": "display_data"
    },
    {
     "name": "stdout",
     "output_type": "stream",
     "text": [
      "label for each of the above image: [2 6 7 4 4 0 3 0 7 3]\n",
      "Model Prediction for each of the above image: [2 5 7 4 4 9 3 7 7 3]\n"
     ]
    }
   ],
   "source": [
    "plt.figure(figsize=(10, 1))\n",
    "for i in range(10):\n",
    "    plt.subplot(1, 10, i+1)\n",
    "    plt.imshow(X_train_original[i], cmap=\"gray\")\n",
    "    plt.axis('off')\n",
    "plt.show()\n",
    "print('label for each of the above image: %s' % (y_train[0:10]))\n",
    "print('Model Prediction for each of the above image: %s' % nnmodelPredictions[0:10])\n"
   ]
  },
  {
   "cell_type": "markdown",
   "metadata": {},
   "source": [
    "We will fine tune some of the hyperparameters and develop another model to see if the performance can be improved. "
   ]
  },
  {
   "cell_type": "code",
   "execution_count": 82,
   "metadata": {},
   "outputs": [
    {
     "name": "stdout",
     "output_type": "stream",
     "text": [
      "lr 0.01 and momentum 0.1\n",
      "----------------------------------\n",
      "42000/42000 [==============================] - 3s 67us/sample - loss: 0.3867 - sparse_categorical_accuracy: 0.8815\n",
      "Accuracy Training Data: 88.15\n",
      "18000/18000 [==============================] - 1s 68us/sample - loss: 0.6068 - sparse_categorical_accuracy: 0.8193\n",
      "Accuracy Test Data: 81.93 \n",
      "\n",
      "\n",
      "lr 0.01 and momentum 0.2\n",
      "----------------------------------\n",
      "42000/42000 [==============================] - 3s 66us/sample - loss: 0.2235 - sparse_categorical_accuracy: 0.9349\n",
      "Accuracy Training Data: 93.49\n",
      "18000/18000 [==============================] - 1s 69us/sample - loss: 0.5668 - sparse_categorical_accuracy: 0.8407\n",
      "Accuracy Test Data: 84.07 \n",
      "\n",
      "\n",
      "lr 0.01 and momentum 0.3\n",
      "----------------------------------\n",
      "42000/42000 [==============================] - 3s 72us/sample - loss: 0.1595 - sparse_categorical_accuracy: 0.95420s - loss: 0.1605 - sparse_categorical_accurac\n",
      "Accuracy Training Data: 95.42\n",
      "18000/18000 [==============================] - 1s 72us/sample - loss: 0.6084 - sparse_categorical_accuracy: 0.83940s - loss: 0.5892 - sparse_categorical\n",
      "Accuracy Test Data: 83.94 \n",
      "\n",
      "\n",
      "lr 0.01 and momentum 0.4\n",
      "----------------------------------\n",
      "42000/42000 [==============================] - 3s 67us/sample - loss: 0.1139 - sparse_categorical_accuracy: 0.9668\n",
      "Accuracy Training Data: 96.68\n",
      "18000/18000 [==============================] - 1s 72us/sample - loss: 0.6515 - sparse_categorical_accuracy: 0.8418\n",
      "Accuracy Test Data: 84.18 \n",
      "\n",
      "\n",
      "lr 0.01 and momentum 0.5\n",
      "----------------------------------\n",
      "42000/42000 [==============================] - 3s 76us/sample - loss: 0.0796 - sparse_categorical_accuracy: 0.9778\n",
      "Accuracy Training Data: 97.78\n",
      "18000/18000 [==============================] - 1s 79us/sample - loss: 0.6874 - sparse_categorical_accuracy: 0.8456\n",
      "Accuracy Test Data: 84.56 \n",
      "\n",
      "\n",
      "lr 0.01 and momentum 0.6\n",
      "----------------------------------\n",
      "42000/42000 [==============================] - 3s 73us/sample - loss: 0.0565 - sparse_categorical_accuracy: 0.9844\n",
      "Accuracy Training Data: 98.44\n",
      "18000/18000 [==============================] - 1s 71us/sample - loss: 0.7082 - sparse_categorical_accuracy: 0.8479\n",
      "Accuracy Test Data: 84.79 \n",
      "\n",
      "\n",
      "lr 0.01 and momentum 0.7\n",
      "----------------------------------\n",
      "42000/42000 [==============================] - 3s 72us/sample - loss: 0.0663 - sparse_categorical_accuracy: 0.9802\n",
      "Accuracy Training Data: 98.02\n",
      "18000/18000 [==============================] - 1s 79us/sample - loss: 0.7679 - sparse_categorical_accuracy: 0.8401\n",
      "Accuracy Test Data: 84.01 \n",
      "\n",
      "\n",
      "lr 0.01 and momentum 0.8\n",
      "----------------------------------\n",
      "42000/42000 [==============================] - 3s 76us/sample - loss: 0.0524 - sparse_categorical_accuracy: 0.9853\n",
      "Accuracy Training Data: 98.53\n",
      "18000/18000 [==============================] - 1s 74us/sample - loss: 0.7690 - sparse_categorical_accuracy: 0.8430\n",
      "Accuracy Test Data: 84.30 \n",
      "\n",
      "\n",
      "lr 0.01 and momentum 0.9\n",
      "----------------------------------\n",
      "42000/42000 [==============================] - 3s 75us/sample - loss: 0.0907 - sparse_categorical_accuracy: 0.9750\n",
      "Accuracy Training Data: 97.50\n",
      "18000/18000 [==============================] - 1s 81us/sample - loss: 0.7922 - sparse_categorical_accuracy: 0.8456\n",
      "Accuracy Test Data: 84.56 \n",
      "\n",
      "\n",
      "lr 0.02 and momentum 0.1\n",
      "----------------------------------\n",
      "42000/42000 [==============================] - 3s 73us/sample - loss: 0.0096 - sparse_categorical_accuracy: 0.9981\n",
      "Accuracy Training Data: 99.81\n",
      "18000/18000 [==============================] - 1s 67us/sample - loss: 0.8032 - sparse_categorical_accuracy: 0.8610\n",
      "Accuracy Test Data: 86.10 \n",
      "\n",
      "\n",
      "lr 0.02 and momentum 0.2\n",
      "----------------------------------\n",
      "42000/42000 [==============================] - 3s 75us/sample - loss: 0.0071 - sparse_categorical_accuracy: 0.9989\n",
      "Accuracy Training Data: 99.89\n",
      "18000/18000 [==============================] - 1s 78us/sample - loss: 0.8487 - sparse_categorical_accuracy: 0.8581\n",
      "Accuracy Test Data: 85.81 \n",
      "\n",
      "\n",
      "lr 0.02 and momentum 0.3\n",
      "----------------------------------\n",
      "42000/42000 [==============================] - 4s 88us/sample - loss: 0.0070 - sparse_categorical_accuracy: 0.9988\n",
      "Accuracy Training Data: 99.88\n",
      "18000/18000 [==============================] - 1s 79us/sample - loss: 0.8866 - sparse_categorical_accuracy: 0.8567\n",
      "Accuracy Test Data: 85.67 \n",
      "\n",
      "\n",
      "lr 0.02 and momentum 0.4\n",
      "----------------------------------\n",
      "42000/42000 [==============================] - 3s 72us/sample - loss: 0.0083 - sparse_categorical_accuracy: 0.9984\n",
      "Accuracy Training Data: 99.84\n",
      "18000/18000 [==============================] - 2s 91us/sample - loss: 0.9182 - sparse_categorical_accuracy: 0.8539\n",
      "Accuracy Test Data: 85.39 \n",
      "\n",
      "\n",
      "lr 0.02 and momentum 0.5\n",
      "----------------------------------\n",
      "42000/42000 [==============================] - 3s 69us/sample - loss: 0.0080 - sparse_categorical_accuracy: 0.9985\n",
      "Accuracy Training Data: 99.85\n",
      "18000/18000 [==============================] - 1s 65us/sample - loss: 0.9339 - sparse_categorical_accuracy: 0.8528\n",
      "Accuracy Test Data: 85.28 \n",
      "\n",
      "\n",
      "lr 0.02 and momentum 0.6\n",
      "----------------------------------\n",
      "42000/42000 [==============================] - 5s 110us/sample - loss: 0.0129 - sparse_categorical_accuracy: 0.9964\n",
      "Accuracy Training Data: 99.64\n",
      "18000/18000 [==============================] - 2s 99us/sample - loss: 0.9496 - sparse_categorical_accuracy: 0.8481\n",
      "Accuracy Test Data: 84.81 \n",
      "\n",
      "\n",
      "lr 0.02 and momentum 0.7\n",
      "----------------------------------\n",
      "42000/42000 [==============================] - 3s 82us/sample - loss: 0.0187 - sparse_categorical_accuracy: 0.9945\n",
      "Accuracy Training Data: 99.45\n",
      "18000/18000 [==============================] - 2s 86us/sample - loss: 0.9184 - sparse_categorical_accuracy: 0.8463\n",
      "Accuracy Test Data: 84.63 \n",
      "\n",
      "\n",
      "lr 0.02 and momentum 0.8\n",
      "----------------------------------\n",
      "42000/42000 [==============================] - 3s 76us/sample - loss: 0.0229 - sparse_categorical_accuracy: 0.99352s - lo\n",
      "Accuracy Training Data: 99.35\n",
      "18000/18000 [==============================] - 1s 72us/sample - loss: 0.8939 - sparse_categorical_accuracy: 0.8484\n",
      "Accuracy Test Data: 84.84 \n",
      "\n",
      "\n",
      "lr 0.02 and momentum 0.9\n",
      "----------------------------------\n",
      "42000/42000 [==============================] - 3s 76us/sample - loss: 0.0353 - sparse_categorical_accuracy: 0.9895\n",
      "Accuracy Training Data: 98.95\n",
      "18000/18000 [==============================] - 1s 75us/sample - loss: 0.8375 - sparse_categorical_accuracy: 0.8474\n",
      "Accuracy Test Data: 84.74 \n",
      "\n",
      "\n",
      "lr 0.03 and momentum 0.1\n",
      "----------------------------------\n",
      "42000/42000 [==============================] - 3s 73us/sample - loss: 0.0038 - sparse_categorical_accuracy: 0.9996\n",
      "Accuracy Training Data: 99.96\n",
      "18000/18000 [==============================] - 1s 76us/sample - loss: 0.8788 - sparse_categorical_accuracy: 0.8617\n",
      "Accuracy Test Data: 86.17 \n",
      "\n",
      "\n",
      "lr 0.03 and momentum 0.2\n",
      "----------------------------------\n",
      "42000/42000 [==============================] - 3s 77us/sample - loss: 0.0033 - sparse_categorical_accuracy: 0.9996\n",
      "Accuracy Training Data: 99.96\n",
      "18000/18000 [==============================] - 1s 74us/sample - loss: 0.9361 - sparse_categorical_accuracy: 0.86040s - loss: 0.9168 - sparse_categorical_accu\n",
      "Accuracy Test Data: 86.04 \n",
      "\n",
      "\n",
      "lr 0.03 and momentum 0.3\n",
      "----------------------------------\n",
      "42000/42000 [==============================] - 3s 79us/sample - loss: 0.0035 - sparse_categorical_accuracy: 0.9995\n",
      "Accuracy Training Data: 99.95\n",
      "18000/18000 [==============================] - 1s 77us/sample - loss: 0.9794 - sparse_categorical_accuracy: 0.8578\n",
      "Accuracy Test Data: 85.78 \n",
      "\n",
      "\n",
      "lr 0.03 and momentum 0.4\n",
      "----------------------------------\n",
      "42000/42000 [==============================] - 3s 83us/sample - loss: 0.0036 - sparse_categorical_accuracy: 0.9994\n",
      "Accuracy Training Data: 99.94\n",
      "18000/18000 [==============================] - 1s 80us/sample - loss: 1.0047 - sparse_categorical_accuracy: 0.8576\n",
      "Accuracy Test Data: 85.76 \n",
      "\n",
      "\n",
      "lr 0.03 and momentum 0.5\n",
      "----------------------------------\n",
      "42000/42000 [==============================] - 4s 88us/sample - loss: 0.0032 - sparse_categorical_accuracy: 0.9996\n",
      "Accuracy Training Data: 99.96\n",
      "18000/18000 [==============================] - 2s 94us/sample - loss: 1.0123 - sparse_categorical_accuracy: 0.8575\n",
      "Accuracy Test Data: 85.75 \n",
      "\n",
      "\n",
      "lr 0.03 and momentum 0.6\n",
      "----------------------------------\n"
     ]
    },
    {
     "name": "stdout",
     "output_type": "stream",
     "text": [
      "42000/42000 [==============================] - 3s 81us/sample - loss: 0.0045 - sparse_categorical_accuracy: 0.9992\n",
      "Accuracy Training Data: 99.92\n",
      "18000/18000 [==============================] - 2s 84us/sample - loss: 1.0277 - sparse_categorical_accuracy: 0.8539\n",
      "Accuracy Test Data: 85.39 \n",
      "\n",
      "\n",
      "lr 0.03 and momentum 0.7\n",
      "----------------------------------\n",
      "42000/42000 [==============================] - 4s 84us/sample - loss: 0.0074 - sparse_categorical_accuracy: 0.9984\n",
      "Accuracy Training Data: 99.84\n",
      "18000/18000 [==============================] - 1s 80us/sample - loss: 0.9962 - sparse_categorical_accuracy: 0.8528\n",
      "Accuracy Test Data: 85.28 \n",
      "\n",
      "\n",
      "lr 0.03 and momentum 0.8\n",
      "----------------------------------\n",
      "42000/42000 [==============================] - 3s 83us/sample - loss: 0.0131 - sparse_categorical_accuracy: 0.9966\n",
      "Accuracy Training Data: 99.66\n",
      "18000/18000 [==============================] - 2s 87us/sample - loss: 0.9555 - sparse_categorical_accuracy: 0.8511\n",
      "Accuracy Test Data: 85.11 \n",
      "\n",
      "\n",
      "lr 0.03 and momentum 0.9\n",
      "----------------------------------\n",
      "42000/42000 [==============================] - 3s 81us/sample - loss: 0.0345 - sparse_categorical_accuracy: 0.9891\n",
      "Accuracy Training Data: 98.91\n",
      "18000/18000 [==============================] - 1s 83us/sample - loss: 0.8472 - sparse_categorical_accuracy: 0.8464\n",
      "Accuracy Test Data: 84.64 \n",
      "\n",
      "\n",
      "lr 0.04 and momentum 0.1\n",
      "----------------------------------\n",
      "42000/42000 [==============================] - 4s 83us/sample - loss: 0.0028 - sparse_categorical_accuracy: 0.9997\n",
      "Accuracy Training Data: 99.97\n",
      "18000/18000 [==============================] - 2s 98us/sample - loss: 0.9183 - sparse_categorical_accuracy: 0.8632\n",
      "Accuracy Test Data: 86.32 \n",
      "\n",
      "\n",
      "lr 0.04 and momentum 0.2\n",
      "----------------------------------\n",
      "42000/42000 [==============================] - 3s 78us/sample - loss: 0.0028 - sparse_categorical_accuracy: 0.9995\n",
      "Accuracy Training Data: 99.95\n",
      "18000/18000 [==============================] - 1s 78us/sample - loss: 0.9730 - sparse_categorical_accuracy: 0.8618\n",
      "Accuracy Test Data: 86.18 \n",
      "\n",
      "\n",
      "lr 0.04 and momentum 0.3\n",
      "----------------------------------\n",
      "42000/42000 [==============================] - 3s 73us/sample - loss: 0.0023 - sparse_categorical_accuracy: 0.9998\n",
      "Accuracy Training Data: 99.98\n",
      "18000/18000 [==============================] - 1s 75us/sample - loss: 1.0210 - sparse_categorical_accuracy: 0.8604\n",
      "Accuracy Test Data: 86.04 \n",
      "\n",
      "\n",
      "lr 0.04 and momentum 0.4\n",
      "----------------------------------\n",
      "42000/42000 [==============================] - 3s 76us/sample - loss: 0.0024 - sparse_categorical_accuracy: 0.9998\n",
      "Accuracy Training Data: 99.98\n",
      "18000/18000 [==============================] - 1s 79us/sample - loss: 1.0413 - sparse_categorical_accuracy: 0.8592\n",
      "Accuracy Test Data: 85.92 \n",
      "\n",
      "\n",
      "lr 0.04 and momentum 0.5\n",
      "----------------------------------\n",
      "42000/42000 [==============================] - 3s 83us/sample - loss: 0.0025 - sparse_categorical_accuracy: 0.9997\n",
      "Accuracy Training Data: 99.97\n",
      "18000/18000 [==============================] - 2s 84us/sample - loss: 1.0401 - sparse_categorical_accuracy: 0.8601\n",
      "Accuracy Test Data: 86.01 \n",
      "\n",
      "\n",
      "lr 0.04 and momentum 0.6\n",
      "----------------------------------\n",
      "42000/42000 [==============================] - 4s 106us/sample - loss: 0.0028 - sparse_categorical_accuracy: 0.9996\n",
      "Accuracy Training Data: 99.96\n",
      "18000/18000 [==============================] - 2s 102us/sample - loss: 1.0657 - sparse_categorical_accuracy: 0.8563\n",
      "Accuracy Test Data: 85.63 \n",
      "\n",
      "\n",
      "lr 0.04 and momentum 0.7\n",
      "----------------------------------\n",
      "42000/42000 [==============================] - 4s 88us/sample - loss: 0.0048 - sparse_categorical_accuracy: 0.99882s -\n",
      "Accuracy Training Data: 99.88\n",
      "18000/18000 [==============================] - 2s 88us/sample - loss: 1.0556 - sparse_categorical_accuracy: 0.8556\n",
      "Accuracy Test Data: 85.56 \n",
      "\n",
      "\n",
      "lr 0.04 and momentum 0.8\n",
      "----------------------------------\n",
      "42000/42000 [==============================] - 4s 88us/sample - loss: 0.0080 - sparse_categorical_accuracy: 0.9985\n",
      "Accuracy Training Data: 99.85\n",
      "18000/18000 [==============================] - 1s 72us/sample - loss: 0.9877 - sparse_categorical_accuracy: 0.8533\n",
      "Accuracy Test Data: 85.33 \n",
      "\n",
      "\n",
      "lr 0.04 and momentum 0.9\n",
      "----------------------------------\n",
      "42000/42000 [==============================] - 3s 75us/sample - loss: 0.0303 - sparse_categorical_accuracy: 0.9912\n",
      "Accuracy Training Data: 99.12\n",
      "18000/18000 [==============================] - 1s 80us/sample - loss: 0.9279 - sparse_categorical_accuracy: 0.8479\n",
      "Accuracy Test Data: 84.79 \n",
      "\n",
      "\n",
      "lr 0.05 and momentum 0.1\n",
      "----------------------------------\n",
      "42000/42000 [==============================] - 4s 86us/sample - loss: 0.0024 - sparse_categorical_accuracy: 0.9998\n",
      "Accuracy Training Data: 99.98\n",
      "18000/18000 [==============================] - 1s 72us/sample - loss: 0.9554 - sparse_categorical_accuracy: 0.8619\n",
      "Accuracy Test Data: 86.19 \n",
      "\n",
      "\n",
      "lr 0.05 and momentum 0.2\n",
      "----------------------------------\n",
      "42000/42000 [==============================] - 3s 82us/sample - loss: 0.0022 - sparse_categorical_accuracy: 0.9997\n",
      "Accuracy Training Data: 99.97\n",
      "18000/18000 [==============================] - 1s 76us/sample - loss: 1.0107 - sparse_categorical_accuracy: 0.8621\n",
      "Accuracy Test Data: 86.21 \n",
      "\n",
      "\n",
      "lr 0.05 and momentum 0.3\n",
      "----------------------------------\n",
      "42000/42000 [==============================] - 3s 72us/sample - loss: 0.0022 - sparse_categorical_accuracy: 0.9997\n",
      "Accuracy Training Data: 99.97\n",
      "18000/18000 [==============================] - 1s 75us/sample - loss: 1.0515 - sparse_categorical_accuracy: 0.8596\n",
      "Accuracy Test Data: 85.96 \n",
      "\n",
      "\n",
      "lr 0.05 and momentum 0.4\n",
      "----------------------------------\n",
      "42000/42000 [==============================] - 4s 101us/sample - loss: 0.0020 - sparse_categorical_accuracy: 0.9998\n",
      "Accuracy Training Data: 99.98\n",
      "18000/18000 [==============================] - 2s 98us/sample - loss: 1.0770 - sparse_categorical_accuracy: 0.8623\n",
      "Accuracy Test Data: 86.23 \n",
      "\n",
      "\n",
      "lr 0.05 and momentum 0.5\n",
      "----------------------------------\n",
      "42000/42000 [==============================] - 3s 76us/sample - loss: 0.0024 - sparse_categorical_accuracy: 0.9997\n",
      "Accuracy Training Data: 99.97\n",
      "18000/18000 [==============================] - 1s 72us/sample - loss: 1.0869 - sparse_categorical_accuracy: 0.8596\n",
      "Accuracy Test Data: 85.96 \n",
      "\n",
      "\n",
      "lr 0.05 and momentum 0.6\n",
      "----------------------------------\n",
      "42000/42000 [==============================] - 4s 93us/sample - loss: 0.0024 - sparse_categorical_accuracy: 0.9997\n",
      "Accuracy Training Data: 99.97\n",
      "18000/18000 [==============================] - 2s 87us/sample - loss: 1.0896 - sparse_categorical_accuracy: 0.8612\n",
      "Accuracy Test Data: 86.12 \n",
      "\n",
      "\n",
      "lr 0.05 and momentum 0.7\n",
      "----------------------------------\n",
      "42000/42000 [==============================] - 4s 98us/sample - loss: 0.0039 - sparse_categorical_accuracy: 0.9994\n",
      "Accuracy Training Data: 99.94\n",
      "18000/18000 [==============================] - 2s 89us/sample - loss: 1.0959 - sparse_categorical_accuracy: 0.8562\n",
      "Accuracy Test Data: 85.62 \n",
      "\n",
      "\n",
      "lr 0.05 and momentum 0.8\n",
      "----------------------------------\n",
      "42000/42000 [==============================] - 3s 81us/sample - loss: 0.0077 - sparse_categorical_accuracy: 0.9981\n",
      "Accuracy Training Data: 99.81\n",
      "18000/18000 [==============================] - 1s 67us/sample - loss: 1.0418 - sparse_categorical_accuracy: 0.8544\n",
      "Accuracy Test Data: 85.44 \n",
      "\n",
      "\n",
      "lr 0.05 and momentum 0.9\n",
      "----------------------------------\n",
      "42000/42000 [==============================] - 3s 75us/sample - loss: 0.0168 - sparse_categorical_accuracy: 0.9952\n",
      "Accuracy Training Data: 99.52\n",
      "18000/18000 [==============================] - 1s 74us/sample - loss: 0.9097 - sparse_categorical_accuracy: 0.85471s - loss: 0.8338 - sparse_categ\n",
      "Accuracy Test Data: 85.47 \n",
      "\n",
      "\n"
     ]
    }
   ],
   "source": [
    "model2 = Sequential()\n",
    "model2.add(BatchNormalization(input_shape=(1024,)))\n",
    "model2.add(Dense(256,activation='relu'))\n",
    "model2.add(BatchNormalization(input_shape=(256,)))\n",
    "model2.add(Dense(128,activation='relu'))\n",
    "model2.add(BatchNormalization(input_shape=(128,)))\n",
    "model2.add(Dense(64,activation='relu'))\n",
    "model2.add(Dropout(rate=0.2))\n",
    "num_classes = len(np.unique(y_train))\n",
    "model2.add(Dense(num_classes,activation='softmax'))\n",
    "lrArr = [0.01,0.02,0.03,0.04,0.05]\n",
    "momArr = [0.1,0.2,0.3,0.4,0.5,0.6,0.7,0.8,0.9]\n",
    "for lr in lrArr:\n",
    "    for mom in momArr:\n",
    "        sgd = optimizers.SGD(lr=lr, momentum=mom, nesterov=False)\n",
    "        model2.compile(loss=losses.sparse_categorical_crossentropy, optimizer=sgd, metrics=['sparse_categorical_accuracy'])\n",
    "\n",
    "        model2.fit(X_train, y_train, batch_size=200, epochs=30,validation_data=(X_test, y_test),verbose=0)\n",
    "        print(f'lr {lr} and momentum {mom}')\n",
    "        print(\"----------------------------------\")\n",
    "        _, train_data_accuracy = model2.evaluate(X_train, y_train)\n",
    "        print('Accuracy Training Data: %.2f' % (train_data_accuracy*100))\n",
    "\n",
    "        _, test_data_accuracy = model2.evaluate(X_test, y_test)\n",
    "        print('Accuracy Test Data: %.2f \\n\\n' % (test_data_accuracy*100))"
   ]
  },
  {
   "cell_type": "markdown",
   "metadata": {},
   "source": [
    "From the statistics printed above it appears that the learning rate 0.01 and momentum 0.2 has the highest accuracy for the least loss. \n",
    "\n",
    "We will create model with learning rate .5 and momentum .5 and see the performance of the model."
   ]
  },
  {
   "cell_type": "code",
   "execution_count": 89,
   "metadata": {},
   "outputs": [
    {
     "name": "stdout",
     "output_type": "stream",
     "text": [
      "lr .5 and momentum .5\n",
      "----------------------------------\n",
      "42000/42000 [==============================] - 3s 82us/sample - loss: 0.0479 - sparse_categorical_accuracy: 0.9865\n",
      "Accuracy Training Data: 98.65\n",
      "18000/18000 [==============================] - 1s 80us/sample - loss: 0.7696 - sparse_categorical_accuracy: 0.8731\n",
      "Accuracy Test Data: 87.31 \n",
      "\n",
      "\n"
     ]
    }
   ],
   "source": [
    "sgd = optimizers.SGD(lr=.5, momentum=.5, nesterov=False)\n",
    "model2.compile(loss=losses.sparse_categorical_crossentropy, optimizer=sgd, metrics=['sparse_categorical_accuracy'])\n",
    "\n",
    "model2.fit(X_train, y_train, batch_size=200, epochs=30,validation_data=(X_test, y_test),verbose=0)\n",
    "print(f'lr .5 and momentum .5')\n",
    "print(\"----------------------------------\")\n",
    "_, train_data_accuracy = model2.evaluate(X_train, y_train)\n",
    "print('Accuracy Training Data: %.2f' % (train_data_accuracy*100))\n",
    "\n",
    "_, test_data_accuracy = model2.evaluate(X_test, y_test)\n",
    "print('Accuracy Test Data: %.2f \\n\\n' % (test_data_accuracy*100))"
   ]
  },
  {
   "cell_type": "markdown",
   "metadata": {},
   "source": [
    "When the model is build with sgd optimizer with learning rate .5 and momentum .5, the accuracy seems to have improved considerable. But the loss has increased too.\n"
   ]
  },
  {
   "cell_type": "code",
   "execution_count": 90,
   "metadata": {},
   "outputs": [
    {
     "name": "stdout",
     "output_type": "stream",
     "text": [
      "42000/42000 [==============================] - 3s 74us/sample - loss: 0.0319 - sparse_categorical_accuracy: 0.9914\n",
      "Accuracy Training Data: 99.14\n",
      "18000/18000 [==============================] - 2s 92us/sample - loss: 0.7874 - sparse_categorical_accuracy: 0.8780\n",
      "Accuracy Test Data: 87.80 \n",
      "\n",
      "\n"
     ]
    }
   ],
   "source": [
    "sgd = optimizers.SGD(lr=.1, momentum=.9, nesterov=False)\n",
    "model2.compile(loss=losses.sparse_categorical_crossentropy, optimizer=sgd, metrics=['sparse_categorical_accuracy'])\n",
    "\n",
    "model2.fit(X_train, y_train, batch_size=200, epochs=30,validation_data=(X_test, y_test),verbose=0)\n",
    "\n",
    "_, train_data_accuracy = model2.evaluate(X_train, y_train)\n",
    "print('Accuracy Training Data: %.2f' % (train_data_accuracy*100))\n",
    "\n",
    "_, test_data_accuracy = model2.evaluate(X_test, y_test)\n",
    "print('Accuracy Test Data: %.2f \\n\\n' % (test_data_accuracy*100))"
   ]
  },
  {
   "cell_type": "markdown",
   "metadata": {},
   "source": [
    "When the model is build with sgd optimizer with learning rate .1 and momentum .9, the accuracy seems to have improved so much with the training data that it could be over fit. And the loss is significantly high.\n"
   ]
  },
  {
   "cell_type": "code",
   "execution_count": 116,
   "metadata": {},
   "outputs": [
    {
     "name": "stdout",
     "output_type": "stream",
     "text": [
      "(42000, 1024)\n"
     ]
    },
    {
     "data": {
      "image/png": "[encoded data removed]",
      "text/plain": [
       "<Figure size 720x72 with 10 Axes>"
      ]
     },
     "metadata": {
      "needs_background": "light"
     },
     "output_type": "display_data"
    },
    {
     "name": "stdout",
     "output_type": "stream",
     "text": [
      "label for each of the above image: [2 6 7 4 4 0 3 0 7 3]\n",
      "Model Prediction for each of the above image: [2 6 7 4 4 0 3 0 7 3]\n"
     ]
    }
   ],
   "source": [
    "sgd = optimizers.SGD(lr=.01, momentum=.2, nesterov=False)\n",
    "model2.compile(loss=losses.sparse_categorical_crossentropy, optimizer=sgd, metrics=['sparse_categorical_accuracy'])\n",
    "\n",
    "model2.fit(X_train, y_train, batch_size=200, epochs=30,validation_data=(X_test, y_test),verbose=0)\n",
    "\n",
    "print(X_train.shape)\n",
    "nnmodelPredictions = model2.predict_classes(X_train)\n",
    "\n",
    "plt.figure(figsize=(10, 1))\n",
    "for i in range(10):\n",
    "    plt.subplot(1, 10, i+1)\n",
    "    plt.imshow(X_train_original[i], cmap=\"gray\")\n",
    "    plt.axis('off')\n",
    "plt.show()\n",
    "print('label for each of the above image: %s' % (y_train[0:10]))\n",
    "print('Model Prediction for each of the above image: %s' % nnmodelPredictions[0:10])\n"
   ]
  },
  {
   "cell_type": "markdown",
   "metadata": {},
   "source": [
    "From this we can infer that the prediciton of this model is better and more accurate. The time taken is significantly lower to build NN model as compared to the tradition classification with KNN. The accuracy of the model also significantly improves when using NN. We will store this model with the hyperparameters lr=0.1 and momentum=.2 for OCR of SVHN database. \n"
   ]
  },
  {
   "cell_type": "code",
   "execution_count": 98,
   "metadata": {},
   "outputs": [],
   "source": [
    "model2.save('./svhn_ocr_model.hd5')"
   ]
  },
  {
   "cell_type": "markdown",
   "metadata": {},
   "source": [
    "Let's load the model and predict it with a sample image to see if the OCR is as expected."
   ]
  },
  {
   "cell_type": "code",
   "execution_count": 132,
   "metadata": {},
   "outputs": [],
   "source": [
    "from tensorflow.keras.models import load_model\n",
    "from tensorflow.keras.preprocessing import image\n",
    "import cv2\n",
    "\n",
    "model = load_model('svhn_ocr_model.hd5')\n"
   ]
  },
  {
   "cell_type": "code",
   "execution_count": 140,
   "metadata": {},
   "outputs": [
    {
     "name": "stdout",
     "output_type": "stream",
     "text": [
      "[2]\n"
     ]
    },
    {
     "data": {
      "image/png": "[encoded data removed]",
      "text/plain": [
       "<Figure size 288x288 with 1 Axes>"
      ]
     },
     "metadata": {
      "needs_background": "light"
     },
     "output_type": "display_data"
    }
   ],
   "source": [
    "# Get test image ready\n",
    "test_image = image.load_img('test.png', target_size=(32, 32))\n",
    "plt.matshow(test_image)\n",
    "test_image = image.img_to_array(test_image)\n",
    "test_image = cv2.cvtColor(test_image, cv2.COLOR_BGR2GRAY)\n",
    "test_image = test_image.reshape(-1, 1024) /255\n",
    "result = model.predict_classes(test_image, batch_size=1)\n",
    "print(result)"
   ]
  },
  {
   "cell_type": "code",
   "execution_count": 141,
   "metadata": {},
   "outputs": [
    {
     "name": "stdout",
     "output_type": "stream",
     "text": [
      "[7]\n"
     ]
    },
    {
     "data": {
      "image/png": "[encoded data removed]",
      "text/plain": [
       "<Figure size 288x288 with 1 Axes>"
      ]
     },
     "metadata": {
      "needs_background": "light"
     },
     "output_type": "display_data"
    }
   ],
   "source": [
    "# Get test image ready\n",
    "test_image = image.load_img('test2.png', target_size=(32, 32))\n",
    "plt.matshow(test_image)\n",
    "test_image = image.img_to_array(test_image)\n",
    "test_image = cv2.cvtColor(test_image, cv2.COLOR_BGR2GRAY)\n",
    "test_image = test_image.reshape(-1, 1024) /255\n",
    "result = model.predict_classes(test_image, batch_size=1)\n",
    "print(result)"
   ]
  },
  {
   "cell_type": "code",
   "execution_count": null,
   "metadata": {},
   "outputs": [],
   "source": []
  }
 ],
 "metadata": {
  "kernelspec": {
   "display_name": "Python 3",
   "language": "python",
   "name": "python3"
  },
  "language_info": {
   "codemirror_mode": {
    "name": "ipython",
    "version": 3
   },
   "file_extension": ".py",
   "mimetype": "text/x-python",
   "name": "python",
   "nbconvert_exporter": "python",
   "pygments_lexer": "ipython3",
   "version": "3.7.3"
  }
 },
 "nbformat": 4,
 "nbformat_minor": 2
}
