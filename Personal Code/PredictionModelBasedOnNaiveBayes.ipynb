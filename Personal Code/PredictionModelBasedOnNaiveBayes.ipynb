{
 "cells": [
  {
   "cell_type": "code",
   "execution_count": 134,
   "metadata": {},
   "outputs": [
    {
     "data": {
      "text/html": [
       "<div>\n",
       "<style scoped>\n",
       "    .dataframe tbody tr th:only-of-type {\n",
       "        vertical-align: middle;\n",
       "    }\n",
       "\n",
       "    .dataframe tbody tr th {\n",
       "        vertical-align: top;\n",
       "    }\n",
       "\n",
       "    .dataframe thead th {\n",
       "        text-align: right;\n",
       "    }\n",
       "</style>\n",
       "<table border=\"1\" class=\"dataframe\">\n",
       "  <thead>\n",
       "    <tr style=\"text-align: right;\">\n",
       "      <th></th>\n",
       "      <th>Pregnancies</th>\n",
       "      <th>Glucose</th>\n",
       "      <th>BloodPressure</th>\n",
       "      <th>SkinThickness</th>\n",
       "      <th>Insulin</th>\n",
       "      <th>BMI</th>\n",
       "      <th>DiabetesPedigreeFunction</th>\n",
       "      <th>Age</th>\n",
       "      <th>Outcome</th>\n",
       "    </tr>\n",
       "  </thead>\n",
       "  <tbody>\n",
       "    <tr>\n",
       "      <th>0</th>\n",
       "      <td>6</td>\n",
       "      <td>148</td>\n",
       "      <td>72</td>\n",
       "      <td>35</td>\n",
       "      <td>0</td>\n",
       "      <td>33.6</td>\n",
       "      <td>0.627</td>\n",
       "      <td>50</td>\n",
       "      <td>1</td>\n",
       "    </tr>\n",
       "    <tr>\n",
       "      <th>1</th>\n",
       "      <td>1</td>\n",
       "      <td>85</td>\n",
       "      <td>66</td>\n",
       "      <td>29</td>\n",
       "      <td>0</td>\n",
       "      <td>26.6</td>\n",
       "      <td>0.351</td>\n",
       "      <td>31</td>\n",
       "      <td>0</td>\n",
       "    </tr>\n",
       "    <tr>\n",
       "      <th>2</th>\n",
       "      <td>8</td>\n",
       "      <td>183</td>\n",
       "      <td>64</td>\n",
       "      <td>0</td>\n",
       "      <td>0</td>\n",
       "      <td>23.3</td>\n",
       "      <td>0.672</td>\n",
       "      <td>32</td>\n",
       "      <td>1</td>\n",
       "    </tr>\n",
       "    <tr>\n",
       "      <th>3</th>\n",
       "      <td>1</td>\n",
       "      <td>89</td>\n",
       "      <td>66</td>\n",
       "      <td>23</td>\n",
       "      <td>94</td>\n",
       "      <td>28.1</td>\n",
       "      <td>0.167</td>\n",
       "      <td>21</td>\n",
       "      <td>0</td>\n",
       "    </tr>\n",
       "    <tr>\n",
       "      <th>4</th>\n",
       "      <td>0</td>\n",
       "      <td>137</td>\n",
       "      <td>40</td>\n",
       "      <td>35</td>\n",
       "      <td>168</td>\n",
       "      <td>43.1</td>\n",
       "      <td>2.288</td>\n",
       "      <td>33</td>\n",
       "      <td>1</td>\n",
       "    </tr>\n",
       "    <tr>\n",
       "      <th>5</th>\n",
       "      <td>5</td>\n",
       "      <td>116</td>\n",
       "      <td>74</td>\n",
       "      <td>0</td>\n",
       "      <td>0</td>\n",
       "      <td>25.6</td>\n",
       "      <td>0.201</td>\n",
       "      <td>30</td>\n",
       "      <td>0</td>\n",
       "    </tr>\n",
       "    <tr>\n",
       "      <th>6</th>\n",
       "      <td>3</td>\n",
       "      <td>78</td>\n",
       "      <td>50</td>\n",
       "      <td>32</td>\n",
       "      <td>88</td>\n",
       "      <td>31.0</td>\n",
       "      <td>0.248</td>\n",
       "      <td>26</td>\n",
       "      <td>1</td>\n",
       "    </tr>\n",
       "    <tr>\n",
       "      <th>7</th>\n",
       "      <td>10</td>\n",
       "      <td>115</td>\n",
       "      <td>0</td>\n",
       "      <td>0</td>\n",
       "      <td>0</td>\n",
       "      <td>35.3</td>\n",
       "      <td>0.134</td>\n",
       "      <td>29</td>\n",
       "      <td>0</td>\n",
       "    </tr>\n",
       "    <tr>\n",
       "      <th>8</th>\n",
       "      <td>2</td>\n",
       "      <td>197</td>\n",
       "      <td>70</td>\n",
       "      <td>45</td>\n",
       "      <td>543</td>\n",
       "      <td>30.5</td>\n",
       "      <td>0.158</td>\n",
       "      <td>53</td>\n",
       "      <td>1</td>\n",
       "    </tr>\n",
       "    <tr>\n",
       "      <th>9</th>\n",
       "      <td>8</td>\n",
       "      <td>125</td>\n",
       "      <td>96</td>\n",
       "      <td>0</td>\n",
       "      <td>0</td>\n",
       "      <td>0.0</td>\n",
       "      <td>0.232</td>\n",
       "      <td>54</td>\n",
       "      <td>1</td>\n",
       "    </tr>\n",
       "    <tr>\n",
       "      <th>10</th>\n",
       "      <td>4</td>\n",
       "      <td>110</td>\n",
       "      <td>92</td>\n",
       "      <td>0</td>\n",
       "      <td>0</td>\n",
       "      <td>37.6</td>\n",
       "      <td>0.191</td>\n",
       "      <td>30</td>\n",
       "      <td>0</td>\n",
       "    </tr>\n",
       "    <tr>\n",
       "      <th>11</th>\n",
       "      <td>10</td>\n",
       "      <td>168</td>\n",
       "      <td>74</td>\n",
       "      <td>0</td>\n",
       "      <td>0</td>\n",
       "      <td>38.0</td>\n",
       "      <td>0.537</td>\n",
       "      <td>34</td>\n",
       "      <td>1</td>\n",
       "    </tr>\n",
       "    <tr>\n",
       "      <th>12</th>\n",
       "      <td>10</td>\n",
       "      <td>139</td>\n",
       "      <td>80</td>\n",
       "      <td>0</td>\n",
       "      <td>0</td>\n",
       "      <td>27.1</td>\n",
       "      <td>1.441</td>\n",
       "      <td>57</td>\n",
       "      <td>0</td>\n",
       "    </tr>\n",
       "    <tr>\n",
       "      <th>13</th>\n",
       "      <td>1</td>\n",
       "      <td>189</td>\n",
       "      <td>60</td>\n",
       "      <td>23</td>\n",
       "      <td>846</td>\n",
       "      <td>30.1</td>\n",
       "      <td>0.398</td>\n",
       "      <td>59</td>\n",
       "      <td>1</td>\n",
       "    </tr>\n",
       "    <tr>\n",
       "      <th>14</th>\n",
       "      <td>5</td>\n",
       "      <td>166</td>\n",
       "      <td>72</td>\n",
       "      <td>19</td>\n",
       "      <td>175</td>\n",
       "      <td>25.8</td>\n",
       "      <td>0.587</td>\n",
       "      <td>51</td>\n",
       "      <td>1</td>\n",
       "    </tr>\n",
       "    <tr>\n",
       "      <th>15</th>\n",
       "      <td>7</td>\n",
       "      <td>100</td>\n",
       "      <td>0</td>\n",
       "      <td>0</td>\n",
       "      <td>0</td>\n",
       "      <td>30.0</td>\n",
       "      <td>0.484</td>\n",
       "      <td>32</td>\n",
       "      <td>1</td>\n",
       "    </tr>\n",
       "    <tr>\n",
       "      <th>16</th>\n",
       "      <td>0</td>\n",
       "      <td>118</td>\n",
       "      <td>84</td>\n",
       "      <td>47</td>\n",
       "      <td>230</td>\n",
       "      <td>45.8</td>\n",
       "      <td>0.551</td>\n",
       "      <td>31</td>\n",
       "      <td>1</td>\n",
       "    </tr>\n",
       "    <tr>\n",
       "      <th>17</th>\n",
       "      <td>7</td>\n",
       "      <td>107</td>\n",
       "      <td>74</td>\n",
       "      <td>0</td>\n",
       "      <td>0</td>\n",
       "      <td>29.6</td>\n",
       "      <td>0.254</td>\n",
       "      <td>31</td>\n",
       "      <td>1</td>\n",
       "    </tr>\n",
       "    <tr>\n",
       "      <th>18</th>\n",
       "      <td>1</td>\n",
       "      <td>103</td>\n",
       "      <td>30</td>\n",
       "      <td>38</td>\n",
       "      <td>83</td>\n",
       "      <td>43.3</td>\n",
       "      <td>0.183</td>\n",
       "      <td>33</td>\n",
       "      <td>0</td>\n",
       "    </tr>\n",
       "    <tr>\n",
       "      <th>19</th>\n",
       "      <td>1</td>\n",
       "      <td>115</td>\n",
       "      <td>70</td>\n",
       "      <td>30</td>\n",
       "      <td>96</td>\n",
       "      <td>34.6</td>\n",
       "      <td>0.529</td>\n",
       "      <td>32</td>\n",
       "      <td>1</td>\n",
       "    </tr>\n",
       "  </tbody>\n",
       "</table>\n",
       "</div>"
      ],
      "text/plain": [
       "    Pregnancies  Glucose  BloodPressure  SkinThickness  Insulin   BMI  \\\n",
       "0             6      148             72             35        0  33.6   \n",
       "1             1       85             66             29        0  26.6   \n",
       "2             8      183             64              0        0  23.3   \n",
       "3             1       89             66             23       94  28.1   \n",
       "4             0      137             40             35      168  43.1   \n",
       "5             5      116             74              0        0  25.6   \n",
       "6             3       78             50             32       88  31.0   \n",
       "7            10      115              0              0        0  35.3   \n",
       "8             2      197             70             45      543  30.5   \n",
       "9             8      125             96              0        0   0.0   \n",
       "10            4      110             92              0        0  37.6   \n",
       "11           10      168             74              0        0  38.0   \n",
       "12           10      139             80              0        0  27.1   \n",
       "13            1      189             60             23      846  30.1   \n",
       "14            5      166             72             19      175  25.8   \n",
       "15            7      100              0              0        0  30.0   \n",
       "16            0      118             84             47      230  45.8   \n",
       "17            7      107             74              0        0  29.6   \n",
       "18            1      103             30             38       83  43.3   \n",
       "19            1      115             70             30       96  34.6   \n",
       "\n",
       "    DiabetesPedigreeFunction  Age  Outcome  \n",
       "0                      0.627   50        1  \n",
       "1                      0.351   31        0  \n",
       "2                      0.672   32        1  \n",
       "3                      0.167   21        0  \n",
       "4                      2.288   33        1  \n",
       "5                      0.201   30        0  \n",
       "6                      0.248   26        1  \n",
       "7                      0.134   29        0  \n",
       "8                      0.158   53        1  \n",
       "9                      0.232   54        1  \n",
       "10                     0.191   30        0  \n",
       "11                     0.537   34        1  \n",
       "12                     1.441   57        0  \n",
       "13                     0.398   59        1  \n",
       "14                     0.587   51        1  \n",
       "15                     0.484   32        1  \n",
       "16                     0.551   31        1  \n",
       "17                     0.254   31        1  \n",
       "18                     0.183   33        0  \n",
       "19                     0.529   32        1  "
      ]
     },
     "execution_count": 134,
     "metadata": {},
     "output_type": "execute_result"
    }
   ],
   "source": [
    "import pandas as pd\n",
    "import numpy as np\n",
    "import matplotlib.pyplot as plt\n",
    "import seaborn as sns\n",
    "\n",
    "#has functions to split the data set into training set and test set\n",
    "from sklearn.model_selection import train_test_split\n",
    "from sklearn.naive_bayes import GaussianNB\n",
    "from sklearn import model_selection\n",
    "from sklearn import metrics\n",
    "\n",
    "pima_df = pd.read_csv(\"diabetes.csv\")\n",
    "pima_df.head(20)\n"
   ]
  },
  {
   "cell_type": "markdown",
   "metadata": {},
   "source": [
    "### Description of the data\n",
    "\n",
    "The headings in the dataset as read from the CSV are Pregnancies, Glucose, BloodPressure, SkinThickness, Insulin, BMI, DiabetesPedigreeFunction, Age and\tOutcome. All the data is measured on women 21+ years of age. \n",
    "\n",
    "**Pregnancies:** Number of times pregnant (0 to n)\n",
    "\n",
    "**Glucose:** Plasma glucose concentration 2 hours in an oral glucose tolerance test\n",
    "\n",
    "**BloodPressure:** Diastolic blood pressure (mm Hg)\n",
    "\n",
    "**SkinThickness:** Triceps skin fold thickness (mm)\n",
    "\n",
    "**Insulin:** 2-Hour serum insulin (mu U/ml)\n",
    "\n",
    "**BMI:** Body Mass Index\n",
    "\n",
    "**DiabetesPedigreeFunction:** Diabetes Pedigree (Family history of diabetes)\n",
    "\n",
    "**Age:** Age in years\n",
    "\n",
    "**Outcome:** 1 or 0 indicating presence or absence of Type 2 Diabetes. This a categorical value. This is the value which the model we develop will predict.\n",
    "\n",
    "We will rename the columns for ease of handling data."
   ]
  },
  {
   "cell_type": "code",
   "execution_count": 135,
   "metadata": {},
   "outputs": [
    {
     "data": {
      "text/plain": [
       "Pregnancies                   int64\n",
       "Glucose                       int64\n",
       "BloodPressure                 int64\n",
       "SkinThickness                 int64\n",
       "Insulin                       int64\n",
       "BMI                         float64\n",
       "DiabetesPedigreeFunction    float64\n",
       "Age                           int64\n",
       "Outcome                       int64\n",
       "dtype: object"
      ]
     },
     "execution_count": 135,
     "metadata": {},
     "output_type": "execute_result"
    }
   ],
   "source": [
    "pima_df.dtypes"
   ]
  },
  {
   "cell_type": "code",
   "execution_count": 136,
   "metadata": {},
   "outputs": [],
   "source": [
    "pima_df.columns = [\"Pregnancies\",\"Glucose\",\"BP\",\"Skin\",\"Insulin\",\"BMI\",\"Pedigree\",\"Age\",\"Outcome\"]"
   ]
  },
  {
   "cell_type": "markdown",
   "metadata": {},
   "source": [
    "The data set loaded above shows that there are many entries with Data unavailable. We have to analyse how many records in each category have valid data."
   ]
  },
  {
   "cell_type": "code",
   "execution_count": 137,
   "metadata": {},
   "outputs": [
    {
     "name": "stdout",
     "output_type": "stream",
     "text": [
      "Total records 768\n",
      "Number of records with Blood Glucose available 763\n",
      "Number of records with BloodPressure available 733\n",
      "Number of records with SkinThickness available 541\n",
      "Number of records with Insulin available 394\n",
      "Number of records with BMI available 757\n"
     ]
    }
   ],
   "source": [
    "print(\"Total records \"+str(pima_df['Outcome'].count()))\n",
    "\n",
    "print(\"Number of records with Blood Glucose available \"+str(pima_df['Outcome'][pima_df[\"Glucose\"] > 0].count()))\n",
    "\n",
    "print(\"Number of records with BloodPressure available \"+str(pima_df['Outcome'][pima_df[\"BP\"] > 0].count()))\n",
    "\n",
    "print(\"Number of records with SkinThickness available \"+str(pima_df['Outcome'][pima_df[\"Skin\"] > 0].count()))\n",
    "\n",
    "print(\"Number of records with Insulin available \"+str(pima_df['Outcome'][pima_df[\"Insulin\"] > 0].count()))\n",
    "\n",
    "print(\"Number of records with BMI available \"+str(pima_df['Outcome'][pima_df[\"BMI\"] > 0].count()))\n",
    "\n"
   ]
  },
  {
   "cell_type": "markdown",
   "metadata": {},
   "source": [
    "We will impute the respective median for all values which are not available and 0 is non-acceptable for the values. Other than preganancy and outcome, no other values can be 0. We will replace these with the respective median values."
   ]
  },
  {
   "cell_type": "code",
   "execution_count": 138,
   "metadata": {},
   "outputs": [
    {
     "data": {
      "text/html": [
       "<div>\n",
       "<style scoped>\n",
       "    .dataframe tbody tr th:only-of-type {\n",
       "        vertical-align: middle;\n",
       "    }\n",
       "\n",
       "    .dataframe tbody tr th {\n",
       "        vertical-align: top;\n",
       "    }\n",
       "\n",
       "    .dataframe thead th {\n",
       "        text-align: right;\n",
       "    }\n",
       "</style>\n",
       "<table border=\"1\" class=\"dataframe\">\n",
       "  <thead>\n",
       "    <tr style=\"text-align: right;\">\n",
       "      <th></th>\n",
       "      <th>count</th>\n",
       "      <th>mean</th>\n",
       "      <th>std</th>\n",
       "      <th>min</th>\n",
       "      <th>25%</th>\n",
       "      <th>50%</th>\n",
       "      <th>75%</th>\n",
       "      <th>max</th>\n",
       "    </tr>\n",
       "  </thead>\n",
       "  <tbody>\n",
       "    <tr>\n",
       "      <th>Pregnancies</th>\n",
       "      <td>768.0</td>\n",
       "      <td>3.845052</td>\n",
       "      <td>3.369578</td>\n",
       "      <td>0.000</td>\n",
       "      <td>1.00000</td>\n",
       "      <td>3.0000</td>\n",
       "      <td>6.00000</td>\n",
       "      <td>17.00</td>\n",
       "    </tr>\n",
       "    <tr>\n",
       "      <th>Glucose</th>\n",
       "      <td>768.0</td>\n",
       "      <td>121.656250</td>\n",
       "      <td>30.438286</td>\n",
       "      <td>44.000</td>\n",
       "      <td>99.75000</td>\n",
       "      <td>117.0000</td>\n",
       "      <td>140.25000</td>\n",
       "      <td>199.00</td>\n",
       "    </tr>\n",
       "    <tr>\n",
       "      <th>BP</th>\n",
       "      <td>768.0</td>\n",
       "      <td>72.386719</td>\n",
       "      <td>12.096642</td>\n",
       "      <td>24.000</td>\n",
       "      <td>64.00000</td>\n",
       "      <td>72.0000</td>\n",
       "      <td>80.00000</td>\n",
       "      <td>122.00</td>\n",
       "    </tr>\n",
       "    <tr>\n",
       "      <th>Skin</th>\n",
       "      <td>768.0</td>\n",
       "      <td>27.334635</td>\n",
       "      <td>9.229014</td>\n",
       "      <td>7.000</td>\n",
       "      <td>23.00000</td>\n",
       "      <td>23.0000</td>\n",
       "      <td>32.00000</td>\n",
       "      <td>99.00</td>\n",
       "    </tr>\n",
       "    <tr>\n",
       "      <th>Insulin</th>\n",
       "      <td>768.0</td>\n",
       "      <td>94.652344</td>\n",
       "      <td>105.547598</td>\n",
       "      <td>14.000</td>\n",
       "      <td>30.50000</td>\n",
       "      <td>31.2500</td>\n",
       "      <td>127.25000</td>\n",
       "      <td>846.00</td>\n",
       "    </tr>\n",
       "    <tr>\n",
       "      <th>BMI</th>\n",
       "      <td>768.0</td>\n",
       "      <td>32.450911</td>\n",
       "      <td>6.875366</td>\n",
       "      <td>18.200</td>\n",
       "      <td>27.50000</td>\n",
       "      <td>32.0000</td>\n",
       "      <td>36.60000</td>\n",
       "      <td>67.10</td>\n",
       "    </tr>\n",
       "    <tr>\n",
       "      <th>Pedigree</th>\n",
       "      <td>768.0</td>\n",
       "      <td>0.471876</td>\n",
       "      <td>0.331329</td>\n",
       "      <td>0.078</td>\n",
       "      <td>0.24375</td>\n",
       "      <td>0.3725</td>\n",
       "      <td>0.62625</td>\n",
       "      <td>2.42</td>\n",
       "    </tr>\n",
       "    <tr>\n",
       "      <th>Age</th>\n",
       "      <td>768.0</td>\n",
       "      <td>33.240885</td>\n",
       "      <td>11.760232</td>\n",
       "      <td>21.000</td>\n",
       "      <td>24.00000</td>\n",
       "      <td>29.0000</td>\n",
       "      <td>41.00000</td>\n",
       "      <td>81.00</td>\n",
       "    </tr>\n",
       "  </tbody>\n",
       "</table>\n",
       "</div>"
      ],
      "text/plain": [
       "             count        mean         std     min       25%       50%  \\\n",
       "Pregnancies  768.0    3.845052    3.369578   0.000   1.00000    3.0000   \n",
       "Glucose      768.0  121.656250   30.438286  44.000  99.75000  117.0000   \n",
       "BP           768.0   72.386719   12.096642  24.000  64.00000   72.0000   \n",
       "Skin         768.0   27.334635    9.229014   7.000  23.00000   23.0000   \n",
       "Insulin      768.0   94.652344  105.547598  14.000  30.50000   31.2500   \n",
       "BMI          768.0   32.450911    6.875366  18.200  27.50000   32.0000   \n",
       "Pedigree     768.0    0.471876    0.331329   0.078   0.24375    0.3725   \n",
       "Age          768.0   33.240885   11.760232  21.000  24.00000   29.0000   \n",
       "\n",
       "                   75%     max  \n",
       "Pregnancies    6.00000   17.00  \n",
       "Glucose      140.25000  199.00  \n",
       "BP            80.00000  122.00  \n",
       "Skin          32.00000   99.00  \n",
       "Insulin      127.25000  846.00  \n",
       "BMI           36.60000   67.10  \n",
       "Pedigree       0.62625    2.42  \n",
       "Age           41.00000   81.00  "
      ]
     },
     "execution_count": 138,
     "metadata": {},
     "output_type": "execute_result"
    }
   ],
   "source": [
    "pima_df['Skin'].replace(0,np.median(pima_df['Skin']),inplace=True)\n",
    "pima_df['BP'].replace(0,np.median(pima_df['BP']),inplace=True)\n",
    "pima_df['BMI'].replace(0,np.median(pima_df['BMI']),inplace=True)\n",
    "pima_df['Insulin'].replace(0,np.median(pima_df['Insulin']),inplace=True)\n",
    "pima_df['Glucose'].replace(0,np.median(pima_df['Glucose']),inplace=True)\n",
    "\n",
    "#as Outcome is int64 type we convert it into category type\n",
    "pima_df['Outcome'] = pima_df.Outcome.astype('category')\n",
    "\n",
    "pima_df.describe().transpose()"
   ]
  },
  {
   "cell_type": "code",
   "execution_count": 139,
   "metadata": {},
   "outputs": [
    {
     "data": {
      "text/plain": [
       "<matplotlib.axes._subplots.AxesSubplot at 0x1a2618b0f0>"
      ]
     },
     "execution_count": 139,
     "metadata": {},
     "output_type": "execute_result"
    },
    {
     "data": {
      "image/png": "[encoded data removed]",
      "text/plain": [
       "<Figure size 432x288 with 1 Axes>"
      ]
     },
     "metadata": {
      "needs_background": "light"
     },
     "output_type": "display_data"
    }
   ],
   "source": [
    "sns.countplot('Outcome',data=pima_df)"
   ]
  },
  {
   "cell_type": "code",
   "execution_count": 140,
   "metadata": {},
   "outputs": [
    {
     "name": "stdout",
     "output_type": "stream",
     "text": [
      "Number of positive cases: 268 \n",
      "Number of negative cases: 500\n"
     ]
    }
   ],
   "source": [
    "positive = len(pima_df.loc[pima_df['Outcome'] == 1])\n",
    "negative = len(pima_df.loc[pima_df['Outcome'] == 0])\n",
    "print(\"Number of positive cases: {0} \".format(positive))\n",
    "print(\"Number of negative cases: {0}\".format(negative))"
   ]
  },
  {
   "cell_type": "code",
   "execution_count": 141,
   "metadata": {},
   "outputs": [],
   "source": [
    "pima_feature_df = pima_df.drop(labels='Outcome', axis = 1)\n"
   ]
  },
  {
   "cell_type": "code",
   "execution_count": 142,
   "metadata": {},
   "outputs": [],
   "source": [
    "diab_outcome = pima_df['Outcome']"
   ]
  },
  {
   "cell_type": "code",
   "execution_count": 143,
   "metadata": {},
   "outputs": [],
   "source": [
    "X = np.array(pima_feature_df)\n",
    "y = np.array(diab_outcome)\n"
   ]
  },
  {
   "cell_type": "code",
   "execution_count": 144,
   "metadata": {},
   "outputs": [
    {
     "name": "stdout",
     "output_type": "stream",
     "text": [
      "The size of the test data is  154\n"
     ]
    }
   ],
   "source": [
    "X_train, X_test,y_train,y_test = train_test_split(X,y, test_size = 0.20, random_state=0)\n",
    "\n",
    "print(\"The size of the test data is \",len(y_test))"
   ]
  },
  {
   "cell_type": "code",
   "execution_count": 145,
   "metadata": {},
   "outputs": [
    {
     "name": "stdout",
     "output_type": "stream",
     "text": [
      "0.744299674267101\n"
     ]
    }
   ],
   "source": [
    "clf = GaussianNB()\n",
    "clf.fit(X_train,y_train)\n",
    "print(clf.score(X_train, y_train))\n"
   ]
  },
  {
   "cell_type": "markdown",
   "metadata": {},
   "source": [
    "### Observation\n",
    "Based on the score of the model based on training data, since it is above 60% (74.43%) we can go ahead and test the prediction based on the model."
   ]
  },
  {
   "cell_type": "code",
   "execution_count": 146,
   "metadata": {},
   "outputs": [
    {
     "name": "stdout",
     "output_type": "stream",
     "text": [
      "Model Accuracy with test data :  0.7792207792207793\n"
     ]
    }
   ],
   "source": [
    "print(\"Model Accuracy with test data : \",clf.score(X_test, y_test))\n",
    "test_prediction = clf.predict(X_test)"
   ]
  },
  {
   "cell_type": "markdown",
   "metadata": {},
   "source": [
    "### Inference\n",
    "From the above observation, it is evident that the accuracy of the model based on the test data is 78%\n",
    "\n",
    "### Prediction accuracy with cross validation using KFold\n",
    "We will further verify our result with KFold which provides train/test indices to split data in train/test sets. Split dataset into 5 consecutive folds. Each fold is then used once as test set while the  4 remaining folds form the training set.\n"
   ]
  },
  {
   "cell_type": "code",
   "execution_count": 147,
   "metadata": {},
   "outputs": [
    {
     "name": "stdout",
     "output_type": "stream",
     "text": [
      "Mean of the cross validation test data result is  0.7726881720430108\n"
     ]
    }
   ],
   "source": [
    "kfold = model_selection.KFold(n_splits=5, random_state=23, shuffle=True)\n",
    "cv_results = model_selection.cross_val_score(clf, X_test, y_test, cv=kfold, scoring='accuracy')\n",
    "print(\"Mean of the cross validation test data result is \",cv_results.mean())\n"
   ]
  },
  {
   "cell_type": "markdown",
   "metadata": {},
   "source": [
    "### Inference\n",
    "The result using KFold with the Gaussian Naive Bayes model returns a similar accuracy of 77.3%.\n",
    "\n",
    "### Confusion matrix\n",
    "\n",
    "The diabetes prediction and test can have two possible outcomes. The person can either be positive or be negative. The confusion matrix for a binary classification as in this case of diabetes outcome is a 2X2 table formed by counting of the number of the four outcomes. We usually denote them as True Positive(TP) where the the prediction was positive and the actual result was also positive, False Positive(FP), where the prediction was positive but the result was negative, True Negative(TN) where the prediction was negative and the result was also negative, and False Negative (FN) where the prediction was negative but the actual result was positive.\n",
    "\n",
    "Some important metrics we can infer from the confusion matrix are,\n",
    "\n",
    "**accuracy** = (True Positive + True Negative)/Total\n",
    "\n",
    "**misclassification**  = (False Positive + False Negative)/Total\n",
    "\n",
    "**sensitivity or recall** = True Positive / Total positive where Total positive is ( True Positive + False Negative)\n",
    "\n",
    "**specificity** = True Negative/ Total Negative where Total negative is (True Negative + False Positive) "
   ]
  },
  {
   "cell_type": "code",
   "execution_count": 148,
   "metadata": {},
   "outputs": [
    {
     "name": "stdout",
     "output_type": "stream",
     "text": [
      "Confusion Matrix\n",
      "[[28 19]\n",
      " [15 92]]\n"
     ]
    }
   ],
   "source": [
    "print(\"Confusion Matrix\")\n",
    "\n",
    "confusion_matrix = metrics.confusion_matrix(y_test, test_prediction, labels=[1, 0])\n",
    "\n",
    "print(confusion_matrix)\n",
    "\n"
   ]
  },
  {
   "cell_type": "code",
   "execution_count": 149,
   "metadata": {},
   "outputs": [
    {
     "name": "stdout",
     "output_type": "stream",
     "text": [
      "Accuracy  0.7792207792207793\n",
      "Misclassification  0.22077922077922077\n",
      "Sensitivity  0.5957446808510638\n",
      "Specificity  0.8598130841121495\n"
     ]
    }
   ],
   "source": [
    "accuracy = (confusion_matrix[0,0] + confusion_matrix[1,1])/len(y_test)\n",
    "print(\"Accuracy \",accuracy)\n",
    "\n",
    "misclassification = (confusion_matrix[1,0] + confusion_matrix[0,1])/len(y_test)\n",
    "print(\"Misclassification \",misclassification)\n",
    "\n",
    "sensitivity = confusion_matrix[0,0]/(confusion_matrix[0,0]+confusion_matrix[0,1])\n",
    "print(\"Sensitivity \",sensitivity)\n",
    "\n",
    "specificity = confusion_matrix[1,1]/(confusion_matrix[1,0] + confusion_matrix[1,1])\n",
    "print(\"Specificity \",specificity)\n"
   ]
  },
  {
   "cell_type": "code",
   "execution_count": 150,
   "metadata": {},
   "outputs": [
    {
     "name": "stdout",
     "output_type": "stream",
     "text": [
      "              precision    recall  f1-score   support\n",
      "\n",
      "    Negative       0.83      0.86      0.84       107\n",
      "    Positive       0.65      0.60      0.62        47\n",
      "\n",
      "   micro avg       0.78      0.78      0.78       154\n",
      "   macro avg       0.74      0.73      0.73       154\n",
      "weighted avg       0.77      0.78      0.78       154\n",
      "\n"
     ]
    }
   ],
   "source": [
    "print(metrics.classification_report(y_test,test_prediction, \\\n",
    "                                    target_names=['Negative','Positive']))\n"
   ]
  },
  {
   "cell_type": "markdown",
   "metadata": {},
   "source": [
    "### Inference\n",
    "From the above observation from the confusion matrix and classification report, we can infer that Gaussian Naives Bayes model does predicts the outcome at about 78% accuracy based on the given data set. Let's use recursive feature elimination based on LogisticRegression model on the data set to determine the the main features in the dataset which influences the outcome and apply Naive Bayes classification on the data subset, similar to what we have done above, to see if we get improved predictions. "
   ]
  },
  {
   "cell_type": "code",
   "execution_count": 151,
   "metadata": {},
   "outputs": [
    {
     "name": "stdout",
     "output_type": "stream",
     "text": [
      "Num Features:  3\n",
      "Selected Features:  [ True False False False False  True  True False]\n",
      "Feature Ranking:  [1 2 3 5 6 1 1 4]\n"
     ]
    }
   ],
   "source": [
    "from sklearn.feature_selection import RFE\n",
    "from sklearn.linear_model import LogisticRegression\n",
    "\n",
    "model = LogisticRegression(solver='liblinear')\n",
    "rfe = RFE(model, 3)\n",
    "fit = rfe.fit(X, y)\n",
    "print(\"Num Features: \",fit.n_features_)\n",
    "print(\"Selected Features: \",fit.support_)\n",
    "print(\"Feature Ranking: \", fit.ranking_)\n"
   ]
  },
  {
   "cell_type": "code",
   "execution_count": 152,
   "metadata": {},
   "outputs": [],
   "source": [
    "#Let's ctreate a new X with the 3 important features Pregnancies,BMI and Pedigree\n",
    "X_new = np.array(pima_feature_df.drop(labels=['Glucose','BP','Skin','Insulin','Age'],axis=1))"
   ]
  },
  {
   "cell_type": "code",
   "execution_count": 153,
   "metadata": {},
   "outputs": [
    {
     "name": "stdout",
     "output_type": "stream",
     "text": [
      "0.6840390879478827\n"
     ]
    }
   ],
   "source": [
    "X_new_train, X_new_test,y_train,y_test = train_test_split(X_new,y, test_size = 0.20, random_state=0)\n",
    "\n",
    "clf_new = GaussianNB()\n",
    "clf_new.fit(X_new_train,y_train)\n",
    "print(clf_new.score(X_new_train, y_train))\n"
   ]
  },
  {
   "cell_type": "code",
   "execution_count": 154,
   "metadata": {},
   "outputs": [
    {
     "name": "stdout",
     "output_type": "stream",
     "text": [
      "Model Accuracy with test data :  0.7987012987012987\n",
      "Confusion Matrix\n",
      "[[24 23]\n",
      " [ 8 99]]\n",
      "Accuracy  0.7987012987012987\n",
      "Misclassification  0.2012987012987013\n",
      "Sensitivity  0.5106382978723404\n",
      "Specificity  0.9252336448598131\n"
     ]
    }
   ],
   "source": [
    "test_prediction_ltd_features = clf_new.predict(X_new_test)\n",
    "print(\"Model Accuracy with test data : \",metrics.accuracy_score(y_test, test_prediction_ltd_features))\n",
    "\n",
    "print(\"Confusion Matrix\")\n",
    "\n",
    "confusion_matrix_new = metrics.confusion_matrix(y_test, test_prediction_ltd_features, labels=[1, 0])\n",
    "\n",
    "print(confusion_matrix_new)\n",
    "\n",
    "accuracy = (confusion_matrix_new[0,0] + confusion_matrix_new[1,1])/len(y_test)\n",
    "print(\"Accuracy \",accuracy)\n",
    "\n",
    "misclassification = (confusion_matrix_new[1,0] + confusion_matrix_new[0,1])/len(y_test)\n",
    "print(\"Misclassification \",misclassification)\n",
    "\n",
    "sensitivity = confusion_matrix_new[0,0]/(confusion_matrix_new[0,0]+confusion_matrix_new[0,1])\n",
    "print(\"Sensitivity \",sensitivity)\n",
    "\n",
    "specificity = confusion_matrix_new[1,1]/(confusion_matrix_new[1,0] + confusion_matrix_new[1,1])\n",
    "print(\"Specificity \",specificity)\n",
    "\n"
   ]
  },
  {
   "cell_type": "markdown",
   "metadata": {},
   "source": [
    "### Inference\n",
    "When the outcome is based on three features, using Naive Bayes classifier, the accuracy seems to have improved to almost 80%. But the sensitivity has gone down to 51%.\n",
    "\n",
    "### Conclusion:\n",
    "Based on the two inferences, the former model considering all the features would be more effective in the production environment as the sensitivity is higher. However given the sensitivity score, though diabetes is not life-threating in initial stages, it is better to take the opinion of subject matter expert to take the model into consideration. \n"
   ]
  }
 ],
 "metadata": {
  "kernelspec": {
   "display_name": "Python 3",
   "language": "python",
   "name": "python3"
  },
  "language_info": {
   "codemirror_mode": {
    "name": "ipython",
    "version": 3
   },
   "file_extension": ".py",
   "mimetype": "text/x-python",
   "name": "python",
   "nbconvert_exporter": "python",
   "pygments_lexer": "ipython3",
   "version": "3.7.1"
  }
 },
 "nbformat": 4,
 "nbformat_minor": 2
}
